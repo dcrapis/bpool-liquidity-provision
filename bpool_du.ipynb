{
 "cells": [
  {
   "cell_type": "code",
   "execution_count": 1,
   "metadata": {
    "id": "a-Hr9ivhKnE9"
   },
   "outputs": [],
   "source": [
    "import pandas as pd\n",
    "import numpy as np\n",
    "\n",
    "import json\n",
    "import requests\n",
    "import warnings\n",
    "\n",
    "from web3 import Web3\n",
    "from datetime import datetime"
   ]
  },
  {
   "cell_type": "code",
   "execution_count": 2,
   "metadata": {
    "colab": {
     "base_uri": "https://localhost:8080/"
    },
    "id": "K2ewVfrHLH7E",
    "outputId": "309faffe-2acf-4b6b-93d5-6eed3cbdf6bb"
   },
   "outputs": [],
   "source": [
    "warnings.filterwarnings(\"ignore\")\n",
    "\n",
    "pd.set_option('display.max_rows', None)\n",
    "pd.set_option('display.max_columns', None)\n",
    "pd.set_option('display.width', None)\n",
    "pd.set_option('display.max_colwidth', -1)"
   ]
  },
  {
   "cell_type": "markdown",
   "metadata": {
    "id": "WR9-QcOsKup1"
   },
   "source": [
    "## Setup and load data"
   ]
  },
  {
   "cell_type": "code",
   "execution_count": 8,
   "metadata": {
    "id": "sOTIduP_iLTl"
   },
   "outputs": [],
   "source": [
    "# set input variables\n",
    "BASE_FOLDER = 'data/'\n",
    "TXNS_FILENAME = 'txns-du.csv'\n",
    "\n",
    "POOL_ADDRESS = '0xAAB9EaBa1AA2653c1Dda9846334700b9F5e14E44'\n",
    "\n",
    "OCEAN_TOKEN = '0x967da4048cD07aB37855c090aAF366e4ce1b9F48'\n",
    "\n",
    "INFURA_API_KEY = '7e9aa77d7cfc4ffcb6718a643d8cccd8'"
   ]
  },
  {
   "cell_type": "code",
   "execution_count": 4,
   "metadata": {
    "id": "F_AltIf1D4bW"
   },
   "outputs": [],
   "source": [
    "# get contract abi\n",
    "ABI_ENDPOINT = 'https://api.etherscan.io/api?module=contract&action=getabi&address=' + POOL_ADDRESS\n",
    "ABI = json.loads(requests.get(ABI_ENDPOINT).json()['result'])"
   ]
  },
  {
   "cell_type": "code",
   "execution_count": 5,
   "metadata": {
    "id": "m_bLXvpWiwpz"
   },
   "outputs": [],
   "source": [
    "# define contract\n",
    "web3 = Web3(Web3.HTTPProvider('https://mainnet.infura.io/v3/' + INFURA_API_KEY))\n",
    "contract = web3.eth.contract(POOL_ADDRESS, abi=ABI)"
   ]
  },
  {
   "cell_type": "code",
   "execution_count": 6,
   "metadata": {
    "id": "rxWsyrJqEcZF"
   },
   "outputs": [],
   "source": [
    "# contract main variables\n",
    "TOTAL_SUPPLY = contract.functions.totalSupply().call()\n",
    "TOTAL_OCEAN = contract.functions.getBalance(OCEAN_TOKEN).call()\n",
    "\n",
    "TOKEN_LIST = contract.functions.getCurrentTokens().call()\n",
    "TOKEN_LIST.remove(OCEAN_TOKEN)\n",
    "TOKENS_DICT = {\n",
    "    OCEAN_TOKEN: 'OCEAN',\n",
    "    TOKEN_LIST[0]: 'DATA_TOKEN'\n",
    "}"
   ]
  },
  {
   "cell_type": "code",
   "execution_count": 9,
   "metadata": {
    "colab": {
     "base_uri": "https://localhost:8080/",
     "height": 502
    },
    "id": "lNnBM9uQumXj",
    "outputId": "5b315311-0de2-4d86-cf2b-40f9f008ef68"
   },
   "outputs": [
    {
     "data": {
      "text/html": [
       "<div>\n",
       "<style scoped>\n",
       "    .dataframe tbody tr th:only-of-type {\n",
       "        vertical-align: middle;\n",
       "    }\n",
       "\n",
       "    .dataframe tbody tr th {\n",
       "        vertical-align: top;\n",
       "    }\n",
       "\n",
       "    .dataframe thead th {\n",
       "        text-align: right;\n",
       "    }\n",
       "</style>\n",
       "<table border=\"1\" class=\"dataframe\">\n",
       "  <thead>\n",
       "    <tr style=\"text-align: right;\">\n",
       "      <th></th>\n",
       "      <th>Txhash</th>\n",
       "      <th>Blockno</th>\n",
       "      <th>UnixTimestamp</th>\n",
       "      <th>DateTime</th>\n",
       "      <th>From</th>\n",
       "      <th>To</th>\n",
       "      <th>ContractAddress</th>\n",
       "      <th>Value_IN(ETH)</th>\n",
       "      <th>Value_OUT(ETH)</th>\n",
       "      <th>CurrentValue @ $4568.42/Eth</th>\n",
       "      <th>TxnFee(ETH)</th>\n",
       "      <th>TxnFee(USD)</th>\n",
       "      <th>Historical $Price/Eth</th>\n",
       "      <th>Status</th>\n",
       "      <th>ErrCode</th>\n",
       "      <th>Method</th>\n",
       "    </tr>\n",
       "  </thead>\n",
       "  <tbody>\n",
       "    <tr>\n",
       "      <th>0</th>\n",
       "      <td>0x23ad38f4a8dfc0598c659044404e328124835868c8309b61357835fda4526544</td>\n",
       "      <td>11262585</td>\n",
       "      <td>1605445590</td>\n",
       "      <td>2020-11-15 13:06:30</td>\n",
       "      <td>0x655efe6eb2021b8cefe22794d90293aec37bb325</td>\n",
       "      <td>0xaab9eaba1aa2653c1dda9846334700b9f5e14e44</td>\n",
       "      <td>NaN</td>\n",
       "      <td>0</td>\n",
       "      <td>0</td>\n",
       "      <td>0</td>\n",
       "      <td>0.012888</td>\n",
       "      <td>58.877116</td>\n",
       "      <td>448.51</td>\n",
       "      <td>NaN</td>\n",
       "      <td>NaN</td>\n",
       "      <td>Setup</td>\n",
       "    </tr>\n",
       "    <tr>\n",
       "      <th>1</th>\n",
       "      <td>0x3e2ecb226ca2f887c608bcb8733853473821dfbb4b4f295096e88141979b22f1</td>\n",
       "      <td>11262588</td>\n",
       "      <td>1605445653</td>\n",
       "      <td>2020-11-15 13:07:33</td>\n",
       "      <td>0xcc7e9b8331bea863a158589e8ebcf118c72d0683</td>\n",
       "      <td>0xaab9eaba1aa2653c1dda9846334700b9f5e14e44</td>\n",
       "      <td>NaN</td>\n",
       "      <td>0</td>\n",
       "      <td>0</td>\n",
       "      <td>0</td>\n",
       "      <td>0.185826</td>\n",
       "      <td>848.931215</td>\n",
       "      <td>448.51</td>\n",
       "      <td>NaN</td>\n",
       "      <td>NaN</td>\n",
       "      <td>Joinswap Extern Amount In</td>\n",
       "    </tr>\n",
       "    <tr>\n",
       "      <th>2</th>\n",
       "      <td>0xc19c05f76169f1ca1eecfca4de905efe55c71bc3427055c04bb36306d1dd10e6</td>\n",
       "      <td>11262588</td>\n",
       "      <td>1605445653</td>\n",
       "      <td>2020-11-15 13:07:33</td>\n",
       "      <td>0xb40156f51103ebaa842590ce51dd2cd0a9e83cda</td>\n",
       "      <td>0xaab9eaba1aa2653c1dda9846334700b9f5e14e44</td>\n",
       "      <td>NaN</td>\n",
       "      <td>0</td>\n",
       "      <td>0</td>\n",
       "      <td>0</td>\n",
       "      <td>0.077555</td>\n",
       "      <td>354.304905</td>\n",
       "      <td>448.51</td>\n",
       "      <td>NaN</td>\n",
       "      <td>NaN</td>\n",
       "      <td>Joinswap Extern Amount In</td>\n",
       "    </tr>\n",
       "    <tr>\n",
       "      <th>3</th>\n",
       "      <td>0x211bd5bede82cc2f068868d1f903a57464a75f5b8f59bf25c6f8faf3adab4be1</td>\n",
       "      <td>11262588</td>\n",
       "      <td>1605445653</td>\n",
       "      <td>2020-11-15 13:07:33</td>\n",
       "      <td>0x229ec4c57725f4fccae94c28012330ea958c212e</td>\n",
       "      <td>0xaab9eaba1aa2653c1dda9846334700b9f5e14e44</td>\n",
       "      <td>NaN</td>\n",
       "      <td>0</td>\n",
       "      <td>0</td>\n",
       "      <td>0</td>\n",
       "      <td>0.011816</td>\n",
       "      <td>53.979080</td>\n",
       "      <td>448.51</td>\n",
       "      <td>NaN</td>\n",
       "      <td>NaN</td>\n",
       "      <td>Joinswap Extern Amount In</td>\n",
       "    </tr>\n",
       "    <tr>\n",
       "      <th>4</th>\n",
       "      <td>0x1885698f6c8bc5a4819a473e1db744805ac517912c7020baec55a2a573e59acf</td>\n",
       "      <td>11262588</td>\n",
       "      <td>1605445653</td>\n",
       "      <td>2020-11-15 13:07:33</td>\n",
       "      <td>0xcf9e8160a07358d3c13637b262da8fb34ff6b4eb</td>\n",
       "      <td>0xaab9eaba1aa2653c1dda9846334700b9f5e14e44</td>\n",
       "      <td>NaN</td>\n",
       "      <td>0</td>\n",
       "      <td>0</td>\n",
       "      <td>0</td>\n",
       "      <td>0.003339</td>\n",
       "      <td>15.255662</td>\n",
       "      <td>448.51</td>\n",
       "      <td>NaN</td>\n",
       "      <td>NaN</td>\n",
       "      <td>Swap Exact Amount In</td>\n",
       "    </tr>\n",
       "  </tbody>\n",
       "</table>\n",
       "</div>"
      ],
      "text/plain": [
       "                                                               Txhash  \\\n",
       "0  0x23ad38f4a8dfc0598c659044404e328124835868c8309b61357835fda4526544   \n",
       "1  0x3e2ecb226ca2f887c608bcb8733853473821dfbb4b4f295096e88141979b22f1   \n",
       "2  0xc19c05f76169f1ca1eecfca4de905efe55c71bc3427055c04bb36306d1dd10e6   \n",
       "3  0x211bd5bede82cc2f068868d1f903a57464a75f5b8f59bf25c6f8faf3adab4be1   \n",
       "4  0x1885698f6c8bc5a4819a473e1db744805ac517912c7020baec55a2a573e59acf   \n",
       "\n",
       "    Blockno  UnixTimestamp             DateTime  \\\n",
       "0  11262585  1605445590     2020-11-15 13:06:30   \n",
       "1  11262588  1605445653     2020-11-15 13:07:33   \n",
       "2  11262588  1605445653     2020-11-15 13:07:33   \n",
       "3  11262588  1605445653     2020-11-15 13:07:33   \n",
       "4  11262588  1605445653     2020-11-15 13:07:33   \n",
       "\n",
       "                                         From  \\\n",
       "0  0x655efe6eb2021b8cefe22794d90293aec37bb325   \n",
       "1  0xcc7e9b8331bea863a158589e8ebcf118c72d0683   \n",
       "2  0xb40156f51103ebaa842590ce51dd2cd0a9e83cda   \n",
       "3  0x229ec4c57725f4fccae94c28012330ea958c212e   \n",
       "4  0xcf9e8160a07358d3c13637b262da8fb34ff6b4eb   \n",
       "\n",
       "                                           To  ContractAddress  Value_IN(ETH)  \\\n",
       "0  0xaab9eaba1aa2653c1dda9846334700b9f5e14e44 NaN               0               \n",
       "1  0xaab9eaba1aa2653c1dda9846334700b9f5e14e44 NaN               0               \n",
       "2  0xaab9eaba1aa2653c1dda9846334700b9f5e14e44 NaN               0               \n",
       "3  0xaab9eaba1aa2653c1dda9846334700b9f5e14e44 NaN               0               \n",
       "4  0xaab9eaba1aa2653c1dda9846334700b9f5e14e44 NaN               0               \n",
       "\n",
       "   Value_OUT(ETH)  CurrentValue @ $4568.42/Eth  TxnFee(ETH)  TxnFee(USD)  \\\n",
       "0  0               0                            0.012888     58.877116     \n",
       "1  0               0                            0.185826     848.931215    \n",
       "2  0               0                            0.077555     354.304905    \n",
       "3  0               0                            0.011816     53.979080     \n",
       "4  0               0                            0.003339     15.255662     \n",
       "\n",
       "   Historical $Price/Eth Status ErrCode                     Method  \n",
       "0  448.51                 NaN    NaN     Setup                      \n",
       "1  448.51                 NaN    NaN     Joinswap Extern Amount In  \n",
       "2  448.51                 NaN    NaN     Joinswap Extern Amount In  \n",
       "3  448.51                 NaN    NaN     Joinswap Extern Amount In  \n",
       "4  448.51                 NaN    NaN     Swap Exact Amount In       "
      ]
     },
     "execution_count": 9,
     "metadata": {},
     "output_type": "execute_result"
    }
   ],
   "source": [
    "# load txns data\n",
    "df = pd.read_csv(BASE_FOLDER + TXNS_FILENAME, index_col=False)\n",
    "df.head(5)"
   ]
  },
  {
   "cell_type": "markdown",
   "metadata": {
    "id": "m_hSG25JRg50"
   },
   "source": [
    "## Process txns"
   ]
  },
  {
   "cell_type": "code",
   "execution_count": 10,
   "metadata": {
    "id": "Lj7fPgQXwmha"
   },
   "outputs": [],
   "source": [
    "dfc = df[df['Status'] != 'Error(0)']\n",
    "\n",
    "txns_dict = {\n",
    "    'address_from': [], \n",
    "    'method': [],\n",
    "    'tokenIn': [], \n",
    "    'tokenAmountIn': [], \n",
    "    'tokenOut': [], \n",
    "    'tokenAmountOut': [],\n",
    "    'date': []\n",
    "}\n",
    "\n",
    "for i, r in dfc.iterrows():\n",
    "    receipt = web3.eth.getTransactionReceipt(r.Txhash)\n",
    "    if r.Method=='Setup' or r.Method=='Joinswap Extern Amount In':\n",
    "        logs = contract.events.LOG_JOIN().processReceipt(receipt)\n",
    "    elif r.Method == 'Swap Exact Amount In' or r.Method == 'Swap Exact Amount Out':\n",
    "        logs = contract.events.LOG_SWAP().processReceipt(receipt)\n",
    "    elif r.Method=='Exit Pool' or r.Method == 'Exitswap Extern Amount Out' or r.Method=='Exitswap Pool Amount In':\n",
    "        logs = contract.events.LOG_EXIT().processReceipt(receipt)\n",
    "    if len(logs)>0:\n",
    "        for log in logs:\n",
    "            args = log['args']\n",
    "            txns_dict['address_from'].append(args.get('caller'))\n",
    "            txns_dict['method'].append(r.Method)\n",
    "            txns_dict['tokenIn'].append(args.get('tokenIn'))\n",
    "            txns_dict['tokenAmountIn'].append(args.get('tokenAmountIn'))\n",
    "            txns_dict['tokenOut'].append(args.get('tokenOut'))\n",
    "            txns_dict['tokenAmountOut'].append(args.get('tokenAmountOut'))\n",
    "            txns_dict['date'].append(r.DateTime)\n",
    "    else:\n",
    "        print('Empty logs:')\n",
    "        print(r.Txhash, r.Method)    \n",
    "\n",
    "dfx = pd.DataFrame.from_dict(txns_dict)\n",
    "dfx['tokenIn'] = dfx['tokenIn'].apply(lambda x: TOKENS_DICT.get(x))\n",
    "dfx['tokenOut'] = dfx['tokenOut'].apply(lambda x: TOKENS_DICT.get(x))"
   ]
  },
  {
   "cell_type": "code",
   "execution_count": 11,
   "metadata": {
    "colab": {
     "base_uri": "https://localhost:8080/",
     "height": 450
    },
    "id": "JLsvg0r_8lEX",
    "outputId": "0a3855e6-d696-42c2-adc2-cf46756db257"
   },
   "outputs": [
    {
     "data": {
      "text/html": [
       "<div>\n",
       "<style scoped>\n",
       "    .dataframe tbody tr th:only-of-type {\n",
       "        vertical-align: middle;\n",
       "    }\n",
       "\n",
       "    .dataframe tbody tr th {\n",
       "        vertical-align: top;\n",
       "    }\n",
       "\n",
       "    .dataframe thead th {\n",
       "        text-align: right;\n",
       "    }\n",
       "</style>\n",
       "<table border=\"1\" class=\"dataframe\">\n",
       "  <thead>\n",
       "    <tr style=\"text-align: right;\">\n",
       "      <th></th>\n",
       "      <th>address_from</th>\n",
       "      <th>method</th>\n",
       "      <th>tokenIn</th>\n",
       "      <th>tokenAmountIn</th>\n",
       "      <th>tokenOut</th>\n",
       "      <th>tokenAmountOut</th>\n",
       "      <th>date</th>\n",
       "    </tr>\n",
       "  </thead>\n",
       "  <tbody>\n",
       "    <tr>\n",
       "      <th>0</th>\n",
       "      <td>0x655eFe6Eb2021b8CEfE22794d90293aeC37bb325</td>\n",
       "      <td>Setup</td>\n",
       "      <td>DATA_TOKEN</td>\n",
       "      <td>999985714285714300000</td>\n",
       "      <td>None</td>\n",
       "      <td>NaN</td>\n",
       "      <td>2020-11-15 13:06:30</td>\n",
       "    </tr>\n",
       "    <tr>\n",
       "      <th>1</th>\n",
       "      <td>0x655eFe6Eb2021b8CEfE22794d90293aeC37bb325</td>\n",
       "      <td>Setup</td>\n",
       "      <td>OCEAN</td>\n",
       "      <td>116665000000000000000000</td>\n",
       "      <td>None</td>\n",
       "      <td>NaN</td>\n",
       "      <td>2020-11-15 13:06:30</td>\n",
       "    </tr>\n",
       "    <tr>\n",
       "      <th>2</th>\n",
       "      <td>0xcC7E9b8331bea863a158589E8EBCF118C72d0683</td>\n",
       "      <td>Joinswap Extern Amount In</td>\n",
       "      <td>OCEAN</td>\n",
       "      <td>14522695122782472713619</td>\n",
       "      <td>None</td>\n",
       "      <td>NaN</td>\n",
       "      <td>2020-11-15 13:07:33</td>\n",
       "    </tr>\n",
       "    <tr>\n",
       "      <th>3</th>\n",
       "      <td>0xB40156F51103EbaA842590cE51DD2cD0a9E83cDa</td>\n",
       "      <td>Joinswap Extern Amount In</td>\n",
       "      <td>OCEAN</td>\n",
       "      <td>22205606938923103737842</td>\n",
       "      <td>None</td>\n",
       "      <td>NaN</td>\n",
       "      <td>2020-11-15 13:07:33</td>\n",
       "    </tr>\n",
       "    <tr>\n",
       "      <th>4</th>\n",
       "      <td>0x229EC4C57725f4fccAe94c28012330EA958C212e</td>\n",
       "      <td>Joinswap Extern Amount In</td>\n",
       "      <td>OCEAN</td>\n",
       "      <td>1900000000000000000000</td>\n",
       "      <td>None</td>\n",
       "      <td>NaN</td>\n",
       "      <td>2020-11-15 13:07:33</td>\n",
       "    </tr>\n",
       "  </tbody>\n",
       "</table>\n",
       "</div>"
      ],
      "text/plain": [
       "                                 address_from                     method  \\\n",
       "0  0x655eFe6Eb2021b8CEfE22794d90293aeC37bb325  Setup                       \n",
       "1  0x655eFe6Eb2021b8CEfE22794d90293aeC37bb325  Setup                       \n",
       "2  0xcC7E9b8331bea863a158589E8EBCF118C72d0683  Joinswap Extern Amount In   \n",
       "3  0xB40156F51103EbaA842590cE51DD2cD0a9E83cDa  Joinswap Extern Amount In   \n",
       "4  0x229EC4C57725f4fccAe94c28012330EA958C212e  Joinswap Extern Amount In   \n",
       "\n",
       "      tokenIn             tokenAmountIn tokenOut  tokenAmountOut  \\\n",
       "0  DATA_TOKEN  999985714285714300000     None    NaN               \n",
       "1  OCEAN       116665000000000000000000  None    NaN               \n",
       "2  OCEAN       14522695122782472713619   None    NaN               \n",
       "3  OCEAN       22205606938923103737842   None    NaN               \n",
       "4  OCEAN       1900000000000000000000    None    NaN               \n",
       "\n",
       "                  date  \n",
       "0  2020-11-15 13:06:30  \n",
       "1  2020-11-15 13:06:30  \n",
       "2  2020-11-15 13:07:33  \n",
       "3  2020-11-15 13:07:33  \n",
       "4  2020-11-15 13:07:33  "
      ]
     },
     "execution_count": 11,
     "metadata": {},
     "output_type": "execute_result"
    }
   ],
   "source": [
    "dfx.head()"
   ]
  },
  {
   "cell_type": "code",
   "execution_count": 12,
   "metadata": {
    "colab": {
     "base_uri": "https://localhost:8080/"
    },
    "id": "uqam0qWOKhyY",
    "outputId": "f3f113e6-2549-4d57-cb03-6031ddadfbe5"
   },
   "outputs": [
    {
     "data": {
      "text/plain": [
       "Joinswap Extern Amount In     437\n",
       "Exitswap Extern Amount Out    250\n",
       "Swap Exact Amount In          104\n",
       "Exitswap Pool Amount In       37 \n",
       "Exit Pool                     26 \n",
       "Swap Exact Amount Out         4  \n",
       "Setup                         2  \n",
       "Approve                       2  \n",
       "Transfer                      2  \n",
       "Name: method, dtype: int64"
      ]
     },
     "execution_count": 12,
     "metadata": {},
     "output_type": "execute_result"
    }
   ],
   "source": [
    "dfx['method'].value_counts()"
   ]
  },
  {
   "cell_type": "markdown",
   "metadata": {
    "id": "OwLiKo4D5wrl"
   },
   "source": [
    "## Compute insights by address"
   ]
  },
  {
   "cell_type": "code",
   "execution_count": 13,
   "metadata": {
    "id": "E3z5nE158Zak"
   },
   "outputs": [],
   "source": [
    "# helpers\n",
    "\n",
    "today = datetime.today()\n",
    "\n",
    "def ocean_amount(x):\n",
    "    # use than groupby addr to compute net_ocean_in\n",
    "    if x.tokenIn=='OCEAN':\n",
    "        return x.tokenAmountIn\n",
    "    elif x.tokenOut=='OCEAN':\n",
    "        return - x.tokenAmountOut\n",
    "    else:\n",
    "        return 0\n",
    "\n",
    "def ocean_today_in(addr):\n",
    "    pool_shares = contract.functions.balanceOf(Web3.toChecksumAddress(addr)).call()\n",
    "    pool_fraction = pool_shares / TOTAL_SUPPLY\n",
    "    return TOTAL_OCEAN * pool_fraction\n",
    "\n",
    "def days_in_pool(x):\n",
    "    if x.is_still_in is True:\n",
    "        return (today - x.date_first_txn).days\n",
    "    else:\n",
    "        return (x.date_last_txn - x.date_first_txn).days"
   ]
  },
  {
   "cell_type": "code",
   "execution_count": 14,
   "metadata": {
    "id": "emh9Ky50KQ99"
   },
   "outputs": [],
   "source": [
    "# compute pool contributions and aggregate by address\n",
    "dfx['ocean_contrib_pool'] = dfx.apply(lambda x: ocean_amount(x), axis=1)\n",
    "\n",
    "dfxg = dfx[['address_from', 'ocean_contrib_pool', 'date']].groupby('address_from').agg({\n",
    "    'ocean_contrib_pool': 'sum',\n",
    "    'date': ['min', 'max']\n",
    "}).reset_index()\n",
    "dfxg.columns = ['address_from', 'ocean_contrib_pool', 'date_first_txn', 'date_last_txn']"
   ]
  },
  {
   "cell_type": "code",
   "execution_count": 15,
   "metadata": {
    "colab": {
     "base_uri": "https://localhost:8080/",
     "height": 225
    },
    "id": "I6FqJJLw8yjb",
    "outputId": "3dd4bc60-f5af-4663-ecd9-1a204de16d39"
   },
   "outputs": [
    {
     "data": {
      "text/html": [
       "<div>\n",
       "<style scoped>\n",
       "    .dataframe tbody tr th:only-of-type {\n",
       "        vertical-align: middle;\n",
       "    }\n",
       "\n",
       "    .dataframe tbody tr th {\n",
       "        vertical-align: top;\n",
       "    }\n",
       "\n",
       "    .dataframe thead th {\n",
       "        text-align: right;\n",
       "    }\n",
       "</style>\n",
       "<table border=\"1\" class=\"dataframe\">\n",
       "  <thead>\n",
       "    <tr style=\"text-align: right;\">\n",
       "      <th></th>\n",
       "      <th>address_from</th>\n",
       "      <th>ocean_contrib_pool</th>\n",
       "      <th>date_first_txn</th>\n",
       "      <th>date_last_txn</th>\n",
       "      <th>ocean_today_in</th>\n",
       "      <th>is_still_in</th>\n",
       "      <th>virtual_gain</th>\n",
       "      <th>days_since_last_txn</th>\n",
       "      <th>days_in_pool</th>\n",
       "    </tr>\n",
       "  </thead>\n",
       "  <tbody>\n",
       "    <tr>\n",
       "      <th>103</th>\n",
       "      <td>0x655eFe6Eb2021b8CEfE22794d90293aeC37bb325</td>\n",
       "      <td>148481.54335857896062976</td>\n",
       "      <td>2020-11-15</td>\n",
       "      <td>2021-08-11</td>\n",
       "      <td>190245.801245510354337792</td>\n",
       "      <td>True</td>\n",
       "      <td>41764.257886931393708032</td>\n",
       "      <td>96</td>\n",
       "      <td>365</td>\n",
       "    </tr>\n",
       "    <tr>\n",
       "      <th>271</th>\n",
       "      <td>0xeEdAB724C292e6Ab438E789CDBD2eeA1AE90e9FF</td>\n",
       "      <td>-25345.622891204637097984</td>\n",
       "      <td>2020-12-08</td>\n",
       "      <td>2021-01-10</td>\n",
       "      <td>0</td>\n",
       "      <td>False</td>\n",
       "      <td>25345.622891204637097984</td>\n",
       "      <td>309</td>\n",
       "      <td>33</td>\n",
       "    </tr>\n",
       "    <tr>\n",
       "      <th>114</th>\n",
       "      <td>0x766337d18E12Df977b5F54516b2333e39E7dcB5a</td>\n",
       "      <td>-15821.876262462786895872</td>\n",
       "      <td>2020-11-15</td>\n",
       "      <td>2020-11-15</td>\n",
       "      <td>0.00000114278227810459521484375</td>\n",
       "      <td>True</td>\n",
       "      <td>15821.876263605569060864</td>\n",
       "      <td>365</td>\n",
       "      <td>365</td>\n",
       "    </tr>\n",
       "    <tr>\n",
       "      <th>179</th>\n",
       "      <td>0xB40156F51103EbaA842590cE51DD2cD0a9E83cDa</td>\n",
       "      <td>-11972.0837353836642304</td>\n",
       "      <td>2020-11-15</td>\n",
       "      <td>2020-12-15</td>\n",
       "      <td>1.79380407124820404052734375E-8</td>\n",
       "      <td>True</td>\n",
       "      <td>11972.083735401603268608</td>\n",
       "      <td>335</td>\n",
       "      <td>365</td>\n",
       "    </tr>\n",
       "    <tr>\n",
       "      <th>276</th>\n",
       "      <td>0xf3b823fa20ec85b4eaa9082A7E799520550443Ef</td>\n",
       "      <td>-11205.1033508220502016</td>\n",
       "      <td>2020-11-15</td>\n",
       "      <td>2020-12-08</td>\n",
       "      <td>2.806809159222155776</td>\n",
       "      <td>True</td>\n",
       "      <td>11207.910159981272367104</td>\n",
       "      <td>342</td>\n",
       "      <td>365</td>\n",
       "    </tr>\n",
       "  </tbody>\n",
       "</table>\n",
       "</div>"
      ],
      "text/plain": [
       "                                   address_from         ocean_contrib_pool  \\\n",
       "103  0x655eFe6Eb2021b8CEfE22794d90293aeC37bb325  148481.54335857896062976    \n",
       "271  0xeEdAB724C292e6Ab438E789CDBD2eeA1AE90e9FF  -25345.622891204637097984   \n",
       "114  0x766337d18E12Df977b5F54516b2333e39E7dcB5a  -15821.876262462786895872   \n",
       "179  0xB40156F51103EbaA842590cE51DD2cD0a9E83cDa  -11972.0837353836642304     \n",
       "276  0xf3b823fa20ec85b4eaa9082A7E799520550443Ef  -11205.1033508220502016     \n",
       "\n",
       "    date_first_txn date_last_txn                   ocean_today_in  \\\n",
       "103 2020-11-15     2021-08-11     190245.801245510354337792         \n",
       "271 2020-12-08     2021-01-10     0                                 \n",
       "114 2020-11-15     2020-11-15     0.00000114278227810459521484375   \n",
       "179 2020-11-15     2020-12-15     1.79380407124820404052734375E-8   \n",
       "276 2020-11-15     2020-12-08     2.806809159222155776              \n",
       "\n",
       "     is_still_in              virtual_gain  days_since_last_txn  days_in_pool  \n",
       "103  True         41764.257886931393708032  96                   365           \n",
       "271  False        25345.622891204637097984  309                  33            \n",
       "114  True         15821.876263605569060864  365                  365           \n",
       "179  True         11972.083735401603268608  335                  365           \n",
       "276  True         11207.910159981272367104  342                  365           "
      ]
     },
     "execution_count": 15,
     "metadata": {},
     "output_type": "execute_result"
    }
   ],
   "source": [
    "# add accounting variables\n",
    "dfxg['ocean_today_in'] = dfxg['address_from'].apply(lambda x: ocean_today_in(x))\n",
    "dfxg['is_still_in'] = dfxg['ocean_today_in'] > 0\n",
    "dfxg['virtual_gain'] = dfxg['ocean_today_in'] - dfxg['ocean_contrib_pool']\n",
    "\n",
    "# add date variables\n",
    "dfxg['date_first_txn'] = dfxg['date_first_txn'].apply(lambda x: datetime.strptime(x[:10], '%Y-%m-%d'))\n",
    "dfxg['date_last_txn'] = dfxg['date_last_txn'].apply(lambda x: datetime.strptime(x[:10], '%Y-%m-%d'))\n",
    "dfxg['days_since_last_txn'] = dfxg['date_last_txn'].apply(lambda x: (today - x).days)\n",
    "dfxg['days_in_pool'] = dfxg.apply(lambda x: days_in_pool(x), axis=1)\n",
    "\n",
    "# convert amounts to readable format\n",
    "dfxg['ocean_contrib_pool'] = dfxg['ocean_contrib_pool'].apply(lambda x: Web3.fromWei(x, 'ether') if np.sign(x)==1 else -Web3.fromWei(-x, 'ether'))\n",
    "dfxg['ocean_today_in'] = dfxg['ocean_today_in'].apply(lambda x: Web3.fromWei(x, 'ether'))\n",
    "dfxg['virtual_gain'] = dfxg['virtual_gain'].apply(lambda x: Web3.fromWei(x, 'ether') if np.sign(x)==1 else -Web3.fromWei(-x, 'ether'))\n",
    "\n",
    "dfxg.sort_values(['virtual_gain'], ascending=False).head()"
   ]
  },
  {
   "cell_type": "code",
   "execution_count": null,
   "metadata": {
    "id": "tj_h93uuJChB"
   },
   "outputs": [],
   "source": [
    "# save final data\n",
    "dfxg[['address_from', 'ocean_amount', 'ocean_today_in', 'is_still_in', \n",
    "      'virtual_gain', 'days_since_last_txn', 'days_in_pool']].sort_values(\n",
    "          ['virtual_gain'], ascending=False).to_csv(\n",
    "              BASE_FOLDER + 'addresses-du.csv', index=False)"
   ]
  }
 ],
 "metadata": {
  "colab": {
   "collapsed_sections": [],
   "name": "bpool-du.ipynb",
   "provenance": [],
   "toc_visible": true
  },
  "kernelspec": {
   "display_name": "Python 3 (ipykernel)",
   "language": "python",
   "name": "python3"
  },
  "language_info": {
   "codemirror_mode": {
    "name": "ipython",
    "version": 3
   },
   "file_extension": ".py",
   "mimetype": "text/x-python",
   "name": "python",
   "nbconvert_exporter": "python",
   "pygments_lexer": "ipython3",
   "version": "3.9.7"
  }
 },
 "nbformat": 4,
 "nbformat_minor": 4
}
